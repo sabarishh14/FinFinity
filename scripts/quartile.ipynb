{
 "cells": [
  {
   "cell_type": "code",
   "execution_count": 4,
   "id": "801b64fe",
   "metadata": {},
   "outputs": [],
   "source": [
    "import pandas as pd\n",
    "final_df=pd.read_csv(\"FINAL DATA SHEET FINAL.csv\")\n",
    "summary_req = final_df.groupby(\"Fund\")[\"Total_Asset\"].agg(\n",
    " \n",
    "    Min=\"min\",\n",
    " \n",
    "    P10=lambda x: x.quantile(0.10),\n",
    " \n",
    "    Q1=lambda x: x.quantile(0.25),\n",
    " \n",
    "    Median=\"median\",\n",
    " \n",
    "    Q3=lambda x: x.quantile(0.75),\n",
    " \n",
    "    P90=lambda x: x.quantile(0.90),\n",
    " \n",
    "    Max=\"max\"\n",
    " \n",
    ").reset_index()\n",
    " \n",
    "# df_merged_req=pd.merge(summary_req,final_df,on='fund',how='inner')\n",
    "summary_req.to_csv(\"quartile.csv\",index=0)"
   ]
  }
 ],
 "metadata": {
  "kernelspec": {
   "display_name": "Python 3",
   "language": "python",
   "name": "python3"
  },
  "language_info": {
   "codemirror_mode": {
    "name": "ipython",
    "version": 3
   },
   "file_extension": ".py",
   "mimetype": "text/x-python",
   "name": "python",
   "nbconvert_exporter": "python",
   "pygments_lexer": "ipython3",
   "version": "3.10.11"
  }
 },
 "nbformat": 4,
 "nbformat_minor": 5
}
